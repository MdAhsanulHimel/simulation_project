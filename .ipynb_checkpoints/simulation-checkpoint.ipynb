{
 "cells": [
  {
   "cell_type": "markdown",
   "id": "8c019af9-c59c-4078-8fbc-d891928873bd",
   "metadata": {},
   "source": [
    "## LIBRARIES"
   ]
  },
  {
   "cell_type": "code",
   "execution_count": 24,
   "id": "375ff27c-306d-4cd3-80dd-803e821e8313",
   "metadata": {},
   "outputs": [],
   "source": [
    "import numpy as np\n",
    "import pandas as pd\n",
    "\n",
    "import matplotlib.pyplot as plt\n",
    "import seaborn as sns"
   ]
  },
  {
   "cell_type": "markdown",
   "id": "3f17e136-5988-4b8c-b4bb-54ae919b2ba3",
   "metadata": {},
   "source": [
    "## FUNCTIONS"
   ]
  },
  {
   "cell_type": "code",
   "execution_count": 25,
   "id": "d8658da9-6ecb-4e52-8d9f-de55f25cc880",
   "metadata": {},
   "outputs": [],
   "source": [
    "# Function to generate exponentially distributed random numbers clipped between 0 and a maximum value\n",
    "def exp(m, n):\n",
    "    expon = np.random.exponential(scale=m)\n",
    "    # Clip the numbers to be within the range (0 to n)\n",
    "    clipped_number = np.clip(expon, 0, n)\n",
    "    return clipped_number\n",
    "\n",
    "# Simulate a queuing system for a specified time duration\n",
    "def simulate_queuing_system(runtime):\n",
    "    # Initialize an empty DataFrame with columns\n",
    "    col = ['id', 'it', 'at', 'st', 'sb', 'se', 'wt', 'spent', 'idle']\n",
    "    df = pd.DataFrame(columns=col)\n",
    "    \n",
    "    # Initialize the first row representing the first customer\n",
    "    for m in col:\n",
    "        df.loc[0, m] = 0\n",
    "    df.loc[0, 'id'] = 1\n",
    "    df.loc[0, 'st'] = exp(4, 6)  # Service time follows an exponential distribution with mean 4 and max 6 \n",
    "    df.loc[0, 'se'] = df.loc[0, 'st']\n",
    "    df.loc[0, 'wt'] = df.loc[0, 'sb'] - df.loc[0, 'at']\n",
    "    df.loc[0, 'spent'] = df.loc[0, 'se'] - df.loc[0, 'at']\n",
    "    \n",
    "    # Iterate to simulate arrivals and service times of customers until the total service time exceeds runtime\n",
    "    i = 1\n",
    "    while df['se'].sum() < runtime:\n",
    "        df.loc[i, 'id'] = i + 1\n",
    "        df.loc[i, 'it'] = exp(5, 8)  # Interarrival time follows an exponential distribution with mean 5 and max 8\n",
    "        df.loc[i, 'at'] = df.loc[i, 'it'] + df.loc[i - 1, 'at']\n",
    "        df.loc[i, 'st'] = exp(4, 6)\n",
    "        df.loc[i, 'sb'] = max(df.loc[i - 1, 'se'], df.loc[i, 'at'])\n",
    "        df.loc[i, 'se'] = df.loc[i, 'sb'] + df.loc[i, 'st']\n",
    "        df.loc[i, 'wt'] = df.loc[i, 'sb'] - df.loc[i, 'at']\n",
    "        df.loc[i, 'spent'] = df.loc[i, 'se'] - df.loc[i, 'at']\n",
    "        if df.loc[i - 1, 'se'] < df.loc[i, 'at']:\n",
    "            df.loc[i, 'idle'] = df.loc[i, 'at'] - df.loc[i - 1, 'se']\n",
    "        else:\n",
    "            df.loc[i, 'idle'] = 0\n",
    "        i += 1\n",
    "    \n",
    "    return df"
   ]
  },
  {
   "cell_type": "markdown",
   "id": "099d0663-d13c-4b4d-a865-0d732e59f62a",
   "metadata": {},
   "source": [
    "## OUTPUT"
   ]
  },
  {
   "cell_type": "code",
   "execution_count": 27,
   "id": "c8fa1036-88fa-48e6-8f67-7f0472d0768f",
   "metadata": {},
   "outputs": [
    {
     "name": "stdin",
     "output_type": "stream",
     "text": [
      "Enter the time duration you want to simulate for:  60\n"
     ]
    },
    {
     "name": "stdout",
     "output_type": "stream",
     "text": [
      "  id        it         at        st         sb         se        wt  \\\n",
      "0  1         0          0  5.242963          0   5.242963         0   \n",
      "1  2  6.113183   6.113183  4.175303   6.113183  10.288485       0.0   \n",
      "2  3   0.22094   6.334123  4.459965  10.288485   14.74845  3.954363   \n",
      "3  4  1.170486   7.504609  5.104025   14.74845  19.852475  7.243841   \n",
      "4  5  4.341765  11.846374  1.877318  19.852475  21.729794  8.006101   \n",
      "\n",
      "       spent     idle  \n",
      "0   5.242963        0  \n",
      "1   4.175303  0.87022  \n",
      "2   8.414327        0  \n",
      "3  12.347866        0  \n",
      "4    9.88342        0  \n"
     ]
    }
   ],
   "source": [
    "# Set the duration of the simulation\n",
    "runtime = float(input(\"Enter the time duration you want to simulate for: \"))\n",
    "\n",
    "# Simulate the queuing system\n",
    "df = simulate_queuing_system(runtime)\n",
    "\n",
    "# Display the DataFrame containing simulation results\n",
    "print(df)"
   ]
  },
  {
   "cell_type": "code",
   "execution_count": 28,
   "id": "300be792",
   "metadata": {},
   "outputs": [
    {
     "data": {
      "text/plain": [
       "(5, 9)"
      ]
     },
     "execution_count": 28,
     "metadata": {},
     "output_type": "execute_result"
    }
   ],
   "source": [
    "df.shape"
   ]
  },
  {
   "cell_type": "code",
   "execution_count": 29,
   "id": "847264f3",
   "metadata": {},
   "outputs": [
    {
     "name": "stdout",
     "output_type": "stream",
     "text": [
      "0.000000    2\n",
      "3.954363    1\n",
      "7.243841    1\n",
      "8.006101    1\n",
      "Name: wt, dtype: int64\n"
     ]
    }
   ],
   "source": [
    "waiting_time_frequency = df['wt'].value_counts()\n",
    "\n",
    "print(waiting_time_frequency)"
   ]
  },
  {
   "cell_type": "code",
   "execution_count": 30,
   "id": "58b334fe",
   "metadata": {},
   "outputs": [
    {
     "data": {
      "image/png": "[encoded data removed]",
      "text/plain": [
       "<Figure size 640x480 with 1 Axes>"
      ]
     },
     "metadata": {},
     "output_type": "display_data"
    }
   ],
   "source": [
    "sns.histplot(data=waiting_time_frequency, bins=10, kde=True)\n",
    "plt.xlabel('Waiting Time')\n",
    "plt.ylabel('Frequency')\n",
    "plt.title('Histogram of Waiting Time')\n",
    "plt.show()"
   ]
  },
  {
   "cell_type": "code",
   "execution_count": null,
   "id": "d251ae1c",
   "metadata": {},
   "outputs": [],
   "source": []
  },
  {
   "cell_type": "code",
   "execution_count": null,
   "id": "548c52bc",
   "metadata": {},
   "outputs": [],
   "source": []
  },
  {
   "cell_type": "code",
   "execution_count": null,
   "id": "71fde201",
   "metadata": {},
   "outputs": [],
   "source": []
  }
 ],
 "metadata": {
  "kernelspec": {
   "display_name": "Python 3 (ipykernel)",
   "language": "python",
   "name": "python3"
  },
  "language_info": {
   "codemirror_mode": {
    "name": "ipython",
    "version": 3
   },
   "file_extension": ".py",
   "mimetype": "text/x-python",
   "name": "python",
   "nbconvert_exporter": "python",
   "pygments_lexer": "ipython3",
   "version": "3.11.3"
  }
 },
 "nbformat": 4,
 "nbformat_minor": 5
}
