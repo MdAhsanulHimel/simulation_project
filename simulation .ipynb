{
 "cells": [
  {
   "cell_type": "code",
   "execution_count": 30,
   "id": "176aae4e",
   "metadata": {},
   "outputs": [
    {
     "name": "stdout",
     "output_type": "stream",
     "text": [
      "Enter the time duration you want to simulate for: 100\n"
     ]
    },
    {
     "data": {
      "text/html": [
       "<div>\n",
       "<style scoped>\n",
       "    .dataframe tbody tr th:only-of-type {\n",
       "        vertical-align: middle;\n",
       "    }\n",
       "\n",
       "    .dataframe tbody tr th {\n",
       "        vertical-align: top;\n",
       "    }\n",
       "\n",
       "    .dataframe thead th {\n",
       "        text-align: right;\n",
       "    }\n",
       "</style>\n",
       "<table border=\"1\" class=\"dataframe\">\n",
       "  <thead>\n",
       "    <tr style=\"text-align: right;\">\n",
       "      <th></th>\n",
       "      <th>id</th>\n",
       "      <th>it</th>\n",
       "      <th>at</th>\n",
       "      <th>st</th>\n",
       "      <th>sb</th>\n",
       "      <th>se</th>\n",
       "      <th>wt</th>\n",
       "      <th>spent</th>\n",
       "      <th>idle</th>\n",
       "    </tr>\n",
       "  </thead>\n",
       "  <tbody>\n",
       "    <tr>\n",
       "      <th>0</th>\n",
       "      <td>1</td>\n",
       "      <td>0</td>\n",
       "      <td>0</td>\n",
       "      <td>1.034976</td>\n",
       "      <td>0</td>\n",
       "      <td>1.034976</td>\n",
       "      <td>0</td>\n",
       "      <td>1.034976</td>\n",
       "      <td>0</td>\n",
       "    </tr>\n",
       "    <tr>\n",
       "      <th>1</th>\n",
       "      <td>2</td>\n",
       "      <td>3.872024</td>\n",
       "      <td>3.872024</td>\n",
       "      <td>6.0</td>\n",
       "      <td>3.872024</td>\n",
       "      <td>9.872024</td>\n",
       "      <td>0.0</td>\n",
       "      <td>6.0</td>\n",
       "      <td>2.837049</td>\n",
       "    </tr>\n",
       "    <tr>\n",
       "      <th>2</th>\n",
       "      <td>3</td>\n",
       "      <td>8.0</td>\n",
       "      <td>11.872024</td>\n",
       "      <td>2.374087</td>\n",
       "      <td>11.872024</td>\n",
       "      <td>14.246111</td>\n",
       "      <td>0.0</td>\n",
       "      <td>2.374087</td>\n",
       "      <td>2.0</td>\n",
       "    </tr>\n",
       "    <tr>\n",
       "      <th>3</th>\n",
       "      <td>4</td>\n",
       "      <td>5.65178</td>\n",
       "      <td>17.523804</td>\n",
       "      <td>2.346256</td>\n",
       "      <td>17.523804</td>\n",
       "      <td>19.87006</td>\n",
       "      <td>0.0</td>\n",
       "      <td>2.346256</td>\n",
       "      <td>3.277693</td>\n",
       "    </tr>\n",
       "    <tr>\n",
       "      <th>4</th>\n",
       "      <td>5</td>\n",
       "      <td>8.0</td>\n",
       "      <td>25.523804</td>\n",
       "      <td>2.835155</td>\n",
       "      <td>25.523804</td>\n",
       "      <td>28.358959</td>\n",
       "      <td>0.0</td>\n",
       "      <td>2.835155</td>\n",
       "      <td>5.653744</td>\n",
       "    </tr>\n",
       "    <tr>\n",
       "      <th>5</th>\n",
       "      <td>6</td>\n",
       "      <td>2.244155</td>\n",
       "      <td>27.767959</td>\n",
       "      <td>0.399025</td>\n",
       "      <td>28.358959</td>\n",
       "      <td>28.757984</td>\n",
       "      <td>0.591</td>\n",
       "      <td>0.990025</td>\n",
       "      <td>0</td>\n",
       "    </tr>\n",
       "  </tbody>\n",
       "</table>\n",
       "</div>"
      ],
      "text/plain": [
       "  id        it         at        st         sb         se     wt     spent  \\\n",
       "0  1         0          0  1.034976          0   1.034976      0  1.034976   \n",
       "1  2  3.872024   3.872024       6.0   3.872024   9.872024    0.0       6.0   \n",
       "2  3       8.0  11.872024  2.374087  11.872024  14.246111    0.0  2.374087   \n",
       "3  4   5.65178  17.523804  2.346256  17.523804   19.87006    0.0  2.346256   \n",
       "4  5       8.0  25.523804  2.835155  25.523804  28.358959    0.0  2.835155   \n",
       "5  6  2.244155  27.767959  0.399025  28.358959  28.757984  0.591  0.990025   \n",
       "\n",
       "       idle  \n",
       "0         0  \n",
       "1  2.837049  \n",
       "2       2.0  \n",
       "3  3.277693  \n",
       "4  5.653744  \n",
       "5         0  "
      ]
     },
     "metadata": {},
     "output_type": "display_data"
    }
   ],
   "source": [
    "import numpy as np\n",
    "import pandas as pd\n",
    "\n",
    "runtime = float(input(\"Enter the time duration you want to simulate for: \"))\n",
    "col = ['id', 'it', 'at', 'st', 'sb', 'se', 'wt', 'spent', 'idle']\n",
    "df = pd.DataFrame(columns=col)\n",
    "for m in col:\n",
    "    df.loc[0,m]=0\n",
    "df.loc[0, 'id'] = 1\n",
    "df.loc[0, 'st'] = exp(4, 6)  # assuming that mean service time is exponentially distributed with mean 4 and max 6 \n",
    "df.loc[0, 'se'] = df.loc[0, 'st']\n",
    "df.loc[0, 'wt'] = df.loc[0, 'sb'] - df.loc[0, 'at']\n",
    "df.loc[0, 'spent'] = df.loc[0, 'se'] - df.loc[0, 'at']\n",
    "    \n",
    "def exp(m, n):\n",
    "    expon = np.random.exponential(scale=m)\n",
    "    # Clip the numbers to be within the range (0 to n)\n",
    "    clipped_number = np.clip(expon, 0, n)\n",
    "    return clipped_number\n",
    "\n",
    "i = 1\n",
    "while df['se'].sum() < runtime:\n",
    "        df.loc[i, 'id'] = i + 1\n",
    "        df.loc[i, 'it'] = exp(5, 8)  # assuming that mean interarrival time is exponentially distributed with mean 5 and max 8\n",
    "        df.loc[i, 'at'] = df.loc[i, 'it'] + df.loc[i - 1, 'at']\n",
    "        df.loc[i, 'st'] = exp(4, 6)\n",
    "        df.loc[i, 'sb'] = max(df.loc[i - 1, 'se'], df.loc[i, 'at'])\n",
    "        df.loc[i, 'se'] = df.loc[i, 'sb'] + df.loc[i, 'st']\n",
    "        df.loc[i, 'wt'] = df.loc[i, 'sb'] - df.loc[i, 'at']\n",
    "        df.loc[i, 'spent'] = df.loc[i, 'se'] - df.loc[i, 'at']\n",
    "        if df.loc[i - 1, 'se'] < df.loc[i, 'at']:\n",
    "            df.loc[i, 'idle'] = df.loc[i, 'at'] - df.loc[i - 1, 'se']\n",
    "        else:\n",
    "            df.loc[i, 'idle'] = 0\n",
    "        i += 1\n",
    "\n",
    "display(df)\n"
   ]
  },
  {
   "cell_type": "code",
   "execution_count": 32,
   "id": "300be792",
   "metadata": {},
   "outputs": [
    {
     "data": {
      "text/plain": [
       "(6, 9)"
      ]
     },
     "execution_count": 32,
     "metadata": {},
     "output_type": "execute_result"
    }
   ],
   "source": [
    "df.shape"
   ]
  },
  {
   "cell_type": "code",
   "execution_count": 33,
   "id": "847264f3",
   "metadata": {},
   "outputs": [
    {
     "name": "stdout",
     "output_type": "stream",
     "text": [
      "0.000    5\n",
      "0.591    1\n",
      "Name: wt, dtype: int64\n"
     ]
    }
   ],
   "source": [
    "waiting_time_frequency = df['wt'].value_counts()\n",
    "\n",
    "print(waiting_time_frequency)"
   ]
  },
  {
   "cell_type": "code",
   "execution_count": 34,
   "id": "518ab801",
   "metadata": {},
   "outputs": [],
   "source": [
    "import matplotlib.pyplot as plt\n",
    "import seaborn as sns"
   ]
  },
  {
   "cell_type": "code",
   "execution_count": 35,
   "id": "dd9b855a",
   "metadata": {},
   "outputs": [
    {
     "data": {
      "image/png": "[encoded data removed]",
      "text/plain": [
       "<Figure size 640x480 with 1 Axes>"
      ]
     },
     "metadata": {},
     "output_type": "display_data"
    }
   ],
   "source": [
    "sns.histplot(data=waiting_time_frequency, bins=10, kde=False)\n",
    "plt.xlabel('Waiting Time')\n",
    "plt.ylabel('Frequency')\n",
    "plt.title('Histogram of Waiting Time')\n",
    "plt.show()"
   ]
  },
  {
   "cell_type": "code",
   "execution_count": 36,
   "id": "58b334fe",
   "metadata": {},
   "outputs": [
    {
     "data": {
      "image/png": "[encoded data removed]",
      "text/plain": [
       "<Figure size 640x480 with 1 Axes>"
      ]
     },
     "metadata": {},
     "output_type": "display_data"
    }
   ],
   "source": [
    "sns.histplot(data=waiting_time_frequency, bins=10, kde=True)\n",
    "plt.xlabel('Waiting Time')\n",
    "plt.ylabel('Frequency')\n",
    "plt.title('Histogram of Waiting Time')\n",
    "plt.show()"
   ]
  },
  {
   "cell_type": "code",
   "execution_count": null,
   "id": "d251ae1c",
   "metadata": {},
   "outputs": [],
   "source": []
  },
  {
   "cell_type": "code",
   "execution_count": null,
   "id": "548c52bc",
   "metadata": {},
   "outputs": [],
   "source": []
  },
  {
   "cell_type": "code",
   "execution_count": null,
   "id": "71fde201",
   "metadata": {},
   "outputs": [],
   "source": []
  }
 ],
 "metadata": {
  "kernelspec": {
   "display_name": "Python 3 (ipykernel)",
   "language": "python",
   "name": "python3"
  },
  "language_info": {
   "codemirror_mode": {
    "name": "ipython",
    "version": 3
   },
   "file_extension": ".py",
   "mimetype": "text/x-python",
   "name": "python",
   "nbconvert_exporter": "python",
   "pygments_lexer": "ipython3",
   "version": "3.9.13"
  }
 },
 "nbformat": 4,
 "nbformat_minor": 5
}
